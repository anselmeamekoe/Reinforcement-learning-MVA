{
 "cells": [
  {
   "cell_type": "markdown",
   "metadata": {},
   "source": [
    "# Code Assignment 3 RL\n",
    "\n",
    "# Author : AMEKOE Kodjo Mawuena"
   ]
  },
  {
   "cell_type": "code",
   "execution_count": 48,
   "metadata": {},
   "outputs": [],
   "source": [
    "import random, math \n",
    "import matplotlib.pyplot as  plt \n",
    "import  numpy as np "
   ]
  },
  {
   "cell_type": "code",
   "execution_count": 49,
   "metadata": {},
   "outputs": [],
   "source": [
    "class UCB():\n",
    "    \"\"\"\n",
    "    The UCB class\n",
    "    \"\"\"\n",
    "    def __init__(self, counts, values):\n",
    "        \"\"\"\n",
    "        Create UCB model \n",
    "        \n",
    "        :param counts : count the number of selection of each arm\n",
    "        :param values : the average reward of each arm \n",
    "        :return : none\n",
    "        \"\"\"\n",
    "        self.counts = counts\n",
    "        self.values = values\n",
    "        return\n",
    "  \n",
    "    def initialize(self, k):\n",
    "        \n",
    "        \"\"\"\n",
    "        Initialization of the UCB model (to zero)\n",
    "        \n",
    "        :param  k : the number of arms. Here 2 arms\n",
    "        :return none\n",
    "        \"\"\"\n",
    "        self.counts = [0 for col in range(k)]\n",
    "        self.values = [0.0 for col in range(k)]\n",
    "        return \n",
    "    def select_arm(self):\n",
    "        \"\"\"\n",
    "        Selects the action \n",
    "        \n",
    "        :return : the selected arm I_t at each step t\n",
    "        \"\"\"\n",
    "        k = len(self.counts)\n",
    "        for arm in range(k):\n",
    "            # if an action has never been selected, we select, otherwise we select the greedy action\n",
    "            if self.counts[arm]==0:\n",
    "                return arm\n",
    "        ucb_values = [0.0 for arm in range(k)]\n",
    "        total_counts = sum(self.counts)\n",
    "        for arm in range(k):\n",
    "            logt2 = (math.log(total_counts))**2\n",
    "            uncert = math.sqrt(math.log(1+total_counts*(logt2))/float(2*self.counts[arm]))\n",
    "            ucb_values[arm] = self.values[arm] + uncert\n",
    "        return ucb_values.index(max(ucb_values))\n",
    "        \n",
    "    # update the raward \n",
    "    def update(self, chosen_arm, reward):\n",
    "        \"\"\"\n",
    "        update the counts and and values\n",
    "        \n",
    "        :param chosen_arm : is the chosen arm at step t (I_t)\n",
    "        :param reward : Bernoulli reward obtained when selecting the action I_t\n",
    "        :return none\n",
    "        \"\"\"\n",
    "        self.counts[chosen_arm]= self.counts[chosen_arm] +1\n",
    "        \n",
    "        \n",
    "        # update the average \n",
    "        n = self.counts[chosen_arm]\n",
    "        value = self.values[chosen_arm]\n",
    "        new_value = ((n-1)/float(n))*value + (1/float(n))*reward\n",
    "        self.values[chosen_arm] = new_value\n",
    "        return "
   ]
  },
  {
   "cell_type": "code",
   "execution_count": 50,
   "metadata": {},
   "outputs": [],
   "source": [
    "# generate the reward (Bernoulli distribution of parameter p)\n",
    "class BernoulliArm():\n",
    "    \"\"\"\n",
    "    Bernoulli arm class\n",
    "    \"\"\"\n",
    "    def __init__(self, p):\n",
    "        \"\"\"\n",
    "        create a model of BernoulliArm\n",
    "        :param p the parameter of success of Bernoulli distribution \n",
    "        \"\"\"\n",
    "        self.p = p\n",
    "    \n",
    "    def draw(self):\n",
    "        \"\"\"\n",
    "        draw the reward according selected arm \n",
    "        return : realisation of Bernoulli distribution of parameter p\n",
    "        \"\"\"\n",
    "        if random.random()> self.p:\n",
    "            return 0.0\n",
    "        else:\n",
    "            return 1.0"
   ]
  },
  {
   "cell_type": "code",
   "execution_count": null,
   "metadata": {},
   "outputs": [],
   "source": []
  },
  {
   "cell_type": "code",
   "execution_count": 51,
   "metadata": {},
   "outputs": [
    {
     "data": {
      "text/plain": [
       "'\\nmus = [0.1, 0.8]\\nn_arms = 2\\n\\nalgo = UCB([], [])\\nalgo.initialize(n_arms)\\narms = list(map(lambda mu :BernoulliArm(mu), mus))\\nresults = test_algorithm(algo, arms,30, 10000)\\n'"
      ]
     },
     "execution_count": 51,
     "metadata": {},
     "output_type": "execute_result"
    }
   ],
   "source": [
    "\"\"\"\n",
    "mus = [0.1, 0.8]\n",
    "n_arms = 2\n",
    "\n",
    "algo = UCB([], [])\n",
    "algo.initialize(n_arms)\n",
    "arms = list(map(lambda mu :BernoulliArm(mu), mus))\n",
    "results = test_algorithm(algo, arms,30, 10000)\n",
    "\"\"\""
   ]
  },
  {
   "cell_type": "code",
   "execution_count": 52,
   "metadata": {},
   "outputs": [],
   "source": [
    "#results[0]"
   ]
  },
  {
   "cell_type": "code",
   "execution_count": null,
   "metadata": {},
   "outputs": [],
   "source": []
  },
  {
   "cell_type": "markdown",
   "metadata": {},
   "source": [
    "## KLUCB"
   ]
  },
  {
   "cell_type": "markdown",
   "metadata": {},
   "source": [
    "https://github.com/Naereen/Kullback-Leibler-divergences-and-kl-UCB-indexes/blob/master/Kullback-Leibler_divergences_in_native_Python__Cython_and_Numba.ipynb"
   ]
  },
  {
   "cell_type": "code",
   "execution_count": 53,
   "metadata": {},
   "outputs": [],
   "source": [
    "# function utils for the KLUCB , thanks to the github \n",
    "# https://github.com/Naereen/Kullback-Leibler-divergences-and-kl-UCB-indexes/blob/master/\n",
    "# Kullback-Leibler_divergences_in_native_Python__Cython_and_Numba.ipynb\n",
    "\n",
    "def klBernou(p,q, epsilon = 1e-10):\n",
    "    \"\"\"\n",
    "    compute Kullback Leibler divergence for the Bernoulli distribution \n",
    "    values between (0,1) becomes values between (epsilon, 1-e).\n",
    "    \n",
    "    \"\"\"\n",
    "    p = min(max(p, epsilon), 1-epsilon) # to avoid issues\n",
    "    q = min(max(q, epsilon), 1-epsilon)\n",
    "    return p*np.log(p/q)+ (1-p)*np.log((1-p)/(1-q))\n",
    "\n",
    "def klucb(x, d, kl, upperbound =1, lowerbound = 0, tolerance = 1e-6, maxit=50):\n",
    "    \"\"\"\n",
    "    compute the inner max of KLUCB using bissection algo \n",
    "    The generic KL-UCB index computation.\n",
    "\n",
    "     :param x: value of the cumulative reward,\n",
    "     :param d: upper bound on the divergence,\n",
    "     :param  kl: the KL divergence to be used here KlBernou\n",
    "     :param upperbound, lowerbound :the known bound of the values x,\n",
    "     :param tolerance : the threshold from where to stop the research (precision)\n",
    "     :param maxit : max number of iterations of the loop \n",
    "     :return the inner max \n",
    "    \"\"\"\n",
    "    \n",
    "    value = max(x, lowerbound)\n",
    "    u = upperbound\n",
    "    it = 0 # for counting iterations\n",
    "    while it < maxit and (u-value)>tolerance:\n",
    "        it+=1\n",
    "        m = (value+u)/2 # the center of the interval \n",
    "        if kl(x,m)>d:\n",
    "            u = m\n",
    "        else:\n",
    "            value = m\n",
    "    return (value+u)/2\n",
    "\n",
    "def f(t, count):\n",
    "    \"\"\"\n",
    "    function that returns the upper bound of the kullback Leibler div\n",
    "    \n",
    "    :param t :the step t = 1,...., horizon \n",
    "    :parm count: count the number of selection of the arm i,\n",
    "    :return : f(t, count) \n",
    "    \"\"\"\n",
    "    logt2 = (math.log(t))**2\n",
    "    return math.log(1+t*logt2)/count"
   ]
  },
  {
   "cell_type": "code",
   "execution_count": 54,
   "metadata": {},
   "outputs": [],
   "source": [
    "class KLUCB():\n",
    "    \"\"\"\n",
    "    KLUCB class \n",
    "    same definition as UCB class.\n",
    "    The only difference is the selection of the arm\n",
    "    \"\"\"\n",
    "    def __init__(self, counts, values):\n",
    "        self.counts = counts\n",
    "        self.values = values\n",
    "        return\n",
    "  \n",
    "    def initialize(self, k):\n",
    "        self.counts = [0 for col in range(k)]\n",
    "        self.values = [0.0 for col in range(k)]\n",
    "        return \n",
    "    def select_arm(self):\n",
    "        k = len(self.counts)\n",
    "        for arm in range(k):\n",
    "            if self.counts[arm]==0:\n",
    "                return arm\n",
    "        klucb_values = [0.0 for arm in range(k)]\n",
    "        total_counts = sum(self.counts)\n",
    "        for arm in range(k):\n",
    "            d =  f(total_counts,self.counts[arm]) \n",
    "            klucb_values[arm] = klucb(self.values[arm], d, klBernou)\n",
    "        return klucb_values.index(max(klucb_values))\n",
    "        \n",
    "    # update the raward \n",
    "    def update(self, chosen_arm, reward):\n",
    "        self.counts[chosen_arm]= self.counts[chosen_arm] +1\n",
    "        n = self.counts[chosen_arm]\n",
    "\n",
    "        # update the average \n",
    "        value = self.values[chosen_arm]\n",
    "        new_value = ((n-1)/float(n))*value + (1/float(n))*reward\n",
    "        self.values[chosen_arm] = new_value\n",
    "        return "
   ]
  },
  {
   "cell_type": "code",
   "execution_count": 55,
   "metadata": {},
   "outputs": [
    {
     "data": {
      "text/plain": [
       "'\\nmus = [0.1, 0.8]\\nn_arms = 2\\n\\nalgokl = KLUCB([], [])\\nalgokl.initialize(n_arms)\\narms = list(map(lambda mu :BernoulliArm(mu), mus))\\nresults = test_algorithm(algokl, arms,30, 10000)\\n'"
      ]
     },
     "execution_count": 55,
     "metadata": {},
     "output_type": "execute_result"
    }
   ],
   "source": [
    "\"\"\"\n",
    "mus = [0.1, 0.8]\n",
    "n_arms = 2\n",
    "\n",
    "algokl = KLUCB([], [])\n",
    "algokl.initialize(n_arms)\n",
    "arms = list(map(lambda mu :BernoulliArm(mu), mus))\n",
    "results = test_algorithm(algokl, arms,30, 10000)\n",
    "\"\"\""
   ]
  },
  {
   "cell_type": "code",
   "execution_count": 56,
   "metadata": {},
   "outputs": [],
   "source": [
    "def test_algorithm(algo, arms, num_sims, horizon, verbose = False):\n",
    "    \"\"\"\n",
    "    function to test our algorithms\n",
    "    \n",
    "    :param algo : can be UCB, KLUCB model\n",
    "    :parm arms: the arms , here Bernoulli arms (2 arms)\n",
    "    :param num_sims : repeat the simulations several time and take the average \n",
    "    :param horizon: the horizon (n)\n",
    "    :param verbose : bool, to verbose the simulation . False by default\n",
    "    :return : list with chosen_arms , rewards, cumulative rewards at each step t\n",
    "    \"\"\"\n",
    "    chosen_arms = np.zeros((num_sims, horizon)) # size num_sims*horizon\n",
    "\n",
    "    rewards = np.zeros((num_sims, horizon))  # size num_sims*horizon\n",
    "    cumulative_rewards = np.zeros((num_sims, horizon)) # size num_sims*horizon\n",
    "\n",
    "    for sim in range(num_sims):\n",
    "        sim = sim +1\n",
    "        if verbose:\n",
    "            print('simulation %s'%sim)\n",
    "        algo.initialize(len(arms))\n",
    "        for t in range(horizon):\n",
    "            t = t+1\n",
    "            chosen_arm = algo.select_arm()\n",
    "            chosen_arms[sim-1][t-1] = chosen_arm \n",
    "            reward = arms[chosen_arm].draw()\n",
    "            rewards[sim-1][t-1]= reward\n",
    "            \n",
    "            if t==1:\n",
    "                cumulative_rewards[sim-1][0] = reward\n",
    "            else:\n",
    "                cumulative_rewards[sim-1][t-1] = cumulative_rewards[sim-1][t-2]+reward\n",
    "            algo.update(chosen_arm, reward)\n",
    "    return [chosen_arms, rewards, cumulative_rewards]"
   ]
  },
  {
   "cell_type": "markdown",
   "metadata": {},
   "source": [
    "# Main part"
   ]
  },
  {
   "cell_type": "code",
   "execution_count": 57,
   "metadata": {},
   "outputs": [],
   "source": [
    "def results(mu1, Delta,k =2,num_sims = 100, n = 10000 ):\n",
    "    \"\"\"\n",
    "    function for experimentation \n",
    "    :param mu1: the first\n",
    "    :param Delta: list such that mu_2 = mu_1 + Delta\n",
    "    :param n : the horizon \n",
    "    :return UCB regrets , KLUCB regrets for each element of Delta\n",
    "    \"\"\"\n",
    "    Regrets_UCB = []\n",
    "    Regrets_KLUCB = []\n",
    "    for i, delta in enumerate(Delta): \n",
    "        print(' delta= %s'%delta)\n",
    "        mus = [mu1 , mu1 + delta]\n",
    "        arms = list(map(lambda mu :BernoulliArm(mu), mus))\n",
    "        # initialisation of algo\n",
    "        algo = UCB([], [])\n",
    "        algoklucb = KLUCB([], [])\n",
    "        \n",
    "        algo.initialize(k)\n",
    "        algoklucb.initialize(k)\n",
    "        \n",
    "        # cumulative rewards\n",
    "        result_ucb = test_algorithm(algo, arms,num_sims,n)\n",
    "        expec_cumul_reward_ucb = result_ucb[2][:,-1].mean() # average over num_sims of the cumulative rewards (the last)\n",
    "        \n",
    "        result_klucb = test_algorithm(algokl, arms,num_sims,n)\n",
    "        expec_cumul_reward_klucb = result_klucb[2][:,-1].mean() \n",
    "        \n",
    "        best_reward = n*max(mus)\n",
    "        \n",
    "        Regrets_UCB.append((best_reward - expec_cumul_reward_ucb).copy())\n",
    "        Regrets_KLUCB.append((best_reward-expec_cumul_reward_klucb).copy())\n",
    "    return Regrets_UCB, Regrets_KLUCB"
   ]
  },
  {
   "cell_type": "markdown",
   "metadata": {},
   "source": [
    "## $\\mu_1 = 0.5$"
   ]
  },
  {
   "cell_type": "code",
   "execution_count": 58,
   "metadata": {
    "scrolled": true
   },
   "outputs": [
    {
     "name": "stdout",
     "output_type": "stream",
     "text": [
      " delta= -0.4\n",
      " delta= -0.35\n",
      " delta= -0.3\n",
      " delta= -0.25\n",
      " delta= -0.2\n",
      " delta= -0.15\n",
      " delta= -0.1\n",
      " delta= -0.05\n",
      " delta= -0.0\n",
      " delta= 0.05\n",
      " delta= 0.1\n",
      " delta= 0.15\n",
      " delta= 0.2\n",
      " delta= 0.25\n",
      " delta= 0.3\n",
      " delta= 0.35\n",
      " delta= 0.4\n"
     ]
    }
   ],
   "source": [
    "pt = np.arange(-0.4, 0.45, 0.05)\n",
    "Delta1 = [round(x, 2) for x in  list(pt)]\n",
    "mu1= 0.5\n",
    "regrets_ucb1, regrets_klucb1 = results(mu1, Delta1)"
   ]
  },
  {
   "cell_type": "code",
   "execution_count": 61,
   "metadata": {},
   "outputs": [
    {
     "data": {
      "image/png": "[encoded data removed]",
      "text/plain": [
       "<Figure size 432x288 with 1 Axes>"
      ]
     },
     "metadata": {
      "needs_background": "light"
     },
     "output_type": "display_data"
    }
   ],
   "source": [
    "plt.figure()\n",
    "plt.plot(Delta1, regrets_ucb1, color= 'b', label = 'UCB')\n",
    "plt.plot(Delta1, regrets_klucb1, color= 'r', label = 'KLUCB')\n",
    "plt.xlabel('$\\Delta$')\n",
    "plt.ylabel('Expected regret')\n",
    "plt.title('$n=10000, \\mu_1 = {}, \\mu_2 = \\mu_1 + \\Delta $'.format(mu1))\n",
    "plt.legend()\n",
    "#plt.show()\n",
    "plt.savefig('fig1.png')\n"
   ]
  },
  {
   "cell_type": "markdown",
   "metadata": {},
   "source": [
    "## $\\mu_1 = 0.1$"
   ]
  },
  {
   "cell_type": "code",
   "execution_count": 62,
   "metadata": {},
   "outputs": [
    {
     "name": "stdout",
     "output_type": "stream",
     "text": [
      " delta= -0.09\n",
      " delta= -0.06\n",
      " delta= -0.03\n",
      " delta= 0\n",
      " delta= 0.03\n",
      " delta= 0.06\n",
      " delta= 0.09\n",
      " delta= 0.12\n",
      " delta= 0.15\n",
      " delta= 0.25\n",
      " delta= 0.3\n",
      " delta= 0.35\n",
      " delta= 0.4\n",
      " delta= 0.5\n",
      " delta= 0.6\n",
      " delta= 0.7\n",
      " delta= 0.8\n"
     ]
    }
   ],
   "source": [
    "Delta2 = [-0.09, -0.06,-0.03,0,0.03, 0.06, 0.09,0.12, 0.15,0.25,0.30,0.35,0.40,0.50,0.6,0.7,0.8 ]\n",
    "mu1_2= 0.1\n",
    "regrets_ucb2, regrets_klucb2 = results(mu1_2, Delta2)"
   ]
  },
  {
   "cell_type": "code",
   "execution_count": 63,
   "metadata": {},
   "outputs": [
    {
     "data": {
      "image/png": "[encoded data removed]",
      "text/plain": [
       "<Figure size 432x288 with 1 Axes>"
      ]
     },
     "metadata": {
      "needs_background": "light"
     },
     "output_type": "display_data"
    }
   ],
   "source": [
    "plt.figure()\n",
    "plt.plot(Delta2, regrets_ucb2, color= 'b', label = 'UCB')\n",
    "plt.plot(Delta2, regrets_klucb2, color= 'r', label = 'KLUCB')\n",
    "plt.xlabel('$\\Delta$')\n",
    "plt.ylabel('Expected regret')\n",
    "plt.title('$n=10000, \\mu_1 = {}, \\mu_2 = \\mu_1 + \\Delta $'.format(mu1_2))\n",
    "plt.legend()\n",
    "#plt.show()\n",
    "plt.savefig('fig2.png')\n"
   ]
  },
  {
   "cell_type": "markdown",
   "metadata": {},
   "source": [
    "# $\\mu_1 = 0.9$"
   ]
  },
  {
   "cell_type": "code",
   "execution_count": 67,
   "metadata": {},
   "outputs": [
    {
     "name": "stdout",
     "output_type": "stream",
     "text": [
      " delta= -0.8\n",
      " delta= -0.75\n",
      " delta= -0.7\n",
      " delta= -0.65\n",
      " delta= -0.6\n",
      " delta= -0.55\n",
      " delta= -0.5\n",
      " delta= -0.45\n",
      " delta= -0.4\n",
      " delta= -0.35\n",
      " delta= -0.3\n",
      " delta= -0.25\n",
      " delta= -0.2\n",
      " delta= -0.15\n",
      " delta= -0.1\n",
      " delta= -0.05\n",
      " delta= 0.0\n",
      " delta= 0.05\n"
     ]
    }
   ],
   "source": [
    "pt = np.arange(-0.8, 0.1, 0.05)\n",
    "Delta3 = [round(x, 2) for x in  list(pt)]\n",
    "#Delta_3 = [-0.8,-0.7,-0.6, -0.5, -0.4, -0.3,-0.2,-0.1,-0.05,0.05]\n",
    "mu1_3 = 0.9\n",
    "regrets_ucb3, regrets_klucb3 = results(mu1_3, Delta3)"
   ]
  },
  {
   "cell_type": "code",
   "execution_count": 68,
   "metadata": {},
   "outputs": [
    {
     "data": {
      "image/png": "[encoded data removed]",
      "text/plain": [
       "<Figure size 432x288 with 1 Axes>"
      ]
     },
     "metadata": {
      "needs_background": "light"
     },
     "output_type": "display_data"
    }
   ],
   "source": [
    "plt.figure()\n",
    "plt.plot(Delta3, regrets_ucb3, color= 'b', label = 'UCB')\n",
    "plt.plot(Delta3, regrets_klucb3, color= 'r', label = 'KLUCB')\n",
    "plt.xlabel('$\\Delta$')\n",
    "plt.ylabel('Expected regret')\n",
    "plt.title('$n=10000, \\mu_1 = {}, \\mu_2 = \\mu_1 + \\Delta $'.format(mu1_3))\n",
    "plt.legend()\n",
    "#plt.show()\n",
    "plt.savefig('fig3.png')"
   ]
  },
  {
   "cell_type": "markdown",
   "metadata": {},
   "source": [
    "# End"
   ]
  }
 ],
 "metadata": {
  "kernelspec": {
   "display_name": "Python 3",
   "language": "python",
   "name": "python3"
  },
  "language_info": {
   "codemirror_mode": {
    "name": "ipython",
    "version": 3
   },
   "file_extension": ".py",
   "mimetype": "text/x-python",
   "name": "python",
   "nbconvert_exporter": "python",
   "pygments_lexer": "ipython3",
   "version": "3.8.3"
  }
 },
 "nbformat": 4,
 "nbformat_minor": 4
}
